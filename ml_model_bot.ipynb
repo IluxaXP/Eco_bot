{
 "cells": [
  {
   "cell_type": "code",
   "execution_count": 1,
   "metadata": {
    "colab": {
     "base_uri": "https://localhost:8080/"
    },
    "executionInfo": {
     "elapsed": 4542,
     "status": "ok",
     "timestamp": 1739023779571,
     "user": {
      "displayName": "Денис Селецкий",
      "userId": "14370759247516864274"
     },
     "user_tz": -420
    },
    "id": "B-uBh0HT4dIM",
    "outputId": "ec131d15-3d00-46fe-8669-7970f3b0a22d"
   },
   "outputs": [],
   "source": [
    "# Устанавливаем необходимые бибилиотеки в систему.\n",
    "#!pip install aiofiles\n",
    "#!pip install prophet\n",
    "#!pip install pandas\n",
    "#!pip install matplotlib\n",
    "#!pip install numpy\n",
    "#!pip install aiogram"
   ]
  },
  {
   "cell_type": "code",
   "execution_count": 2,
   "metadata": {
    "executionInfo": {
     "elapsed": 4742,
     "status": "ok",
     "timestamp": 1739023805107,
     "user": {
      "displayName": "Денис Селецкий",
      "userId": "14370759247516864274"
     },
     "user_tz": -420
    },
    "id": "qziOSRxW4D68"
   },
   "outputs": [],
   "source": [
    "# Подгружаем необходимые библиотеки\n",
    "import os\n",
    "import numpy as np\n",
    "import pandas as pd\n",
    "import matplotlib.pyplot as plt\n",
    "from aiogram import Bot, Dispatcher, types, F\n",
    "from aiogram.filters import Command\n",
    "from aiogram.types import ReplyKeyboardMarkup, KeyboardButton\n",
    "from matplotlib.dates import DateFormatter\n",
    "import asyncio\n",
    "from matplotlib import rcParams\n",
    "from prophet import Prophet\n",
    "from data.TOKEN import API_TOKEN, API_KEY\n",
    "import aiofiles\n",
    "import aiohttp\n",
    "\n",
    "# Настройка шрифта для графиков\n",
    "rcParams[\"font.family\"] = \"DejaVu Sans\"\n",
    "plt.style.use(\"seaborn-v0_8\")\n",
    "\n",
    "# Создание бота и диспетчера событий\n",
    "bot = Bot(token=API_TOKEN)\n",
    "dp = Dispatcher()\n"
   ]
  },
  {
   "cell_type": "code",
   "execution_count": 3,
   "metadata": {},
   "outputs": [
    {
     "name": "stdout",
     "output_type": "stream",
     "text": [
      "Запрашиваем страницы с 0 до 9000\n",
      "Запрашиваем страницы с 10000 до 19000\n",
      "Запрашиваем страницы с 20000 до 29000\n",
      "Запрашиваем страницы с 30000 до 39000\n",
      "Достигнут конец данных.\n"
     ]
    }
   ],
   "source": [
    "# API_KEY ключ для получения данных с сайта mos.ru\n",
    "URL = \"https://apidata.mos.ru/v1/datasets/2453/rows\"\n",
    "TOP = 1000 # количество строк в запросе к сайту. Такое ограничение указывает сайт mos.ru\n",
    "BATCH_SIZE = 10 # количество одновременных подключений к сайту\n",
    "\n",
    "# Инициализация пустого списка для хранения всех данных\n",
    "all_data = []\n",
    "\n",
    "async def fetch_page(session: aiohttp.ClientSession, skip: int) -> list:\n",
    "    params = {\"api_key\": API_KEY, \"$top\": TOP, \"$skip\": skip}\n",
    "    async with session.get(URL, params=params) as response:\n",
    "        if response.status != 200:\n",
    "            print(f\"Ошибка запроса (status {response.status}) для $skip={skip}\")\n",
    "            return []\n",
    "        data = await response.json()\n",
    "        return data\n",
    "\n",
    "# Создание асинхронной сессии для выполнения HTTP-запросов\n",
    "async with aiohttp.ClientSession() as session:\n",
    "    # Инициализация переменной для отслеживания текущей страницы\n",
    "    page_index = 0\n",
    "\n",
    "    # Бесконечный цикл для получения данных, пока они доступны\n",
    "    while True:\n",
    "        # Создание списка задач для параллельного выполнения запросов\n",
    "        tasks = []\n",
    "        for i in range(BATCH_SIZE):\n",
    "            # Вычисление значения параметра $skip для пагинации\n",
    "            skip = (page_index + i) * TOP\n",
    "            # Добавление задачи (запроса) в список задач\n",
    "            tasks.append(fetch_page(session, skip))\n",
    "\n",
    "        # Вывод информации о текущем диапазоне запрашиваемых страниц\n",
    "        print(\n",
    "            f\"Запрашиваем страницы с {(page_index)*TOP} до {((page_index+BATCH_SIZE-1)*TOP)}\"\n",
    "        )\n",
    "\n",
    "        # Параллельное выполнение всех задач и ожидание их завершения\n",
    "        results = await asyncio.gather(*tasks)\n",
    "\n",
    "        # Флаг для остановки цикла, если данные закончились\n",
    "        stop = False\n",
    "        for res in results:\n",
    "            # Если результат пустой (например, достигнут конец данных)\n",
    "            if not res:\n",
    "                stop = True\n",
    "                break  # Выход из цикла for\n",
    "\n",
    "            # Добавление полученных данных в общий список\n",
    "            all_data.extend(res)\n",
    "\n",
    "        # Если достигнут конец данных, выход из основного цикла\n",
    "        if stop:\n",
    "            print(\"Достигнут конец данных.\")\n",
    "            break  # Выход из цикла while\n",
    "\n",
    "        # Увеличение индекса страницы для следующей пачки запросов\n",
    "        page_index += BATCH_SIZE\n",
    "\n",
    "    # Преобразование списка всех данных в DataFrame\n",
    "    df = pd.DataFrame(all_data)\n",
    "\n",
    "    # Если в DataFrame есть столбец \"Cells\", нормализуем его (распаковываем JSON)\n",
    "    if \"Cells\" in df.columns:\n",
    "        df = pd.json_normalize(df[\"Cells\"])"
   ]
  },
  {
   "cell_type": "code",
   "execution_count": 4,
   "metadata": {},
   "outputs": [
    {
     "data": {
      "text/plain": [
       "Parameter\n",
       "Оксид углерода                                       4406\n",
       "Диоксид азота                                        4143\n",
       "Оксид азота                                          3850\n",
       "Сумма углеводородных соединений за вычетом метана    2680\n",
       "Метан                                                2679\n",
       "Сумма углеводородных соединений                      2676\n",
       "Сероводород                                          2248\n",
       "Диоксид серы                                         1862\n",
       "Взвешенные частицы РМ2.5                             1583\n",
       "Взвешенные частицы РМ10                              1565\n",
       "Озон                                                 1290\n",
       "Взвешенные частицы РМ10 (суточные измерения)          502\n",
       "Диоксид углерода                                      442\n",
       "C6H6 (бензол)                                         393\n",
       "Взвешенные частицы РМ2.5 (суточные измерения)         384\n",
       "CH2O (формальдегид)                                   380\n",
       "C6H5OH (фенол)                                        365\n",
       "Кислород                                              283\n",
       "C10H8 (нафталин)                                      275\n",
       "C7H8 (толуол)                                         272\n",
       "Аммиак                                                270\n",
       "C8H8 (стирол)                                         260\n",
       "Name: count, dtype: int64"
      ]
     },
     "execution_count": 4,
     "metadata": {},
     "output_type": "execute_result"
    }
   ],
   "source": [
    "\n",
    "# очистка данных\n",
    "cp_data=df.copy(deep=True)\n",
    "cp_data = cp_data.drop(0, axis=0) #удаляем первую строку, с названиями колонок, но при переносе по АПИ их несоздается\n",
    "cp_data = cp_data.drop(['ID', 'global_id', 'StationName', 'AdmArea', 'SurveillanceZoneCharacteristics', 'Location', 'MonthlyAveragePDKss'], axis=1)\n",
    "cp_data['Parameter'].value_counts()"
   ]
  },
  {
   "cell_type": "code",
   "execution_count": 5,
   "metadata": {},
   "outputs": [],
   "source": [
    "cp_data = cp_data[cp_data['Parameter'].isin(['Диоксид азота', 'Озон', 'Взвешенные частицы РМ10', 'Диоксид серы'])]\n",
    "cp_data = cp_data.reset_index()\n",
    "del cp_data['index']"
   ]
  },
  {
   "cell_type": "code",
   "execution_count": 6,
   "metadata": {},
   "outputs": [],
   "source": [
    "cp_data['PDKnorm'] = np.nan\n",
    "cp_data['PDKnorm'] = cp_data['PDKnorm'].mask(cp_data['Parameter'] == 'Диоксид азота', 0.04)\n",
    "cp_data['PDKnorm'] = cp_data['PDKnorm'].mask(cp_data['Parameter'] == 'Озон', 0.03)\n",
    "cp_data['PDKnorm'] = cp_data['PDKnorm'].mask(cp_data['Parameter'] == 'Взвешенные частицы РМ10', 0.04)\n",
    "cp_data['PDKnorm'] = cp_data['PDKnorm'].mask(cp_data['Parameter'] == 'Диоксид серы', 0.05)"
   ]
  },
  {
   "cell_type": "code",
   "execution_count": 7,
   "metadata": {},
   "outputs": [],
   "source": [
    "cp_data['MonthlyAverage'] = cp_data['MonthlyAverage'].astype('Float64')\n",
    "cp_data['Period'] = pd.to_datetime(cp_data['Period'], format='%m.%Y', errors='coerce')\n",
    "#После обработки сохраняем данный в файл\n",
    "cp_data.to_csv('new_data.csv')"
   ]
  },
  {
   "cell_type": "code",
   "execution_count": 8,
   "metadata": {},
   "outputs": [],
   "source": [
    "#очищенные данные копируев в изначальный ДатаФрэйм для дальнейшей обработки и вывода графиков\n",
    "df=cp_data.copy(deep=True)"
   ]
  },
  {
   "cell_type": "code",
   "execution_count": 9,
   "metadata": {},
   "outputs": [],
   "source": [
    "# Чтение данных из CSV-файла когда создавали вручную, либо если будет условие, проверки даты создания файла, на устаревания\n",
    "#csv_file = \"new_data.csv\"\n",
    "#df = pd.read_csv(csv_file)\n",
    "#df[\"Period\"] = pd.to_datetime(df[\"Period\"], errors=\"coerce\")  # Преобразование даты"
   ]
  },
  {
   "cell_type": "code",
   "execution_count": 10,
   "metadata": {
    "executionInfo": {
     "elapsed": 224,
     "status": "ok",
     "timestamp": 1739023816008,
     "user": {
      "displayName": "Денис Селецкий",
      "userId": "14370759247516864274"
     },
     "user_tz": -420
    },
    "id": "P-IL3we34D6_"
   },
   "outputs": [],
   "source": [
    "# Удаление строк с отсутствующими критическими значениями\n",
    "df = df.dropna(subset=[\"District\", \"Period\", \"MonthlyAverage\", \"PDKnorm\", \"Parameter\"])\n",
    "\n",
    "# Предобработка данных для прогнозов\n",
    "preprocessed_data = {\n",
    "    district: {\n",
    "        param: group[[\"Period\", \"MonthlyAverage\"]]\n",
    "        .rename(columns={\"Period\": \"ds\", \"MonthlyAverage\": \"y\"})\n",
    "        .sort_values(\"ds\")\n",
    "        for param, group in df[df[\"District\"] == district].groupby(\"Parameter\")\n",
    "    }\n",
    "    for district in df[\"District\"].unique()\n",
    "}\n",
    "\n",
    "# Получение уникальных районов для клавиатуры\n",
    "districts = df[\"District\"].unique().tolist()\n",
    "keyboard = ReplyKeyboardMarkup(\n",
    "    keyboard=[[KeyboardButton(text=d)] for d in districts], resize_keyboard=True\n",
    ")\n"
   ]
  },
  {
   "cell_type": "code",
   "execution_count": 11,
   "metadata": {},
   "outputs": [],
   "source": [
    "# Кэш моделей для прогнозов\n",
    "model_cache = {}\n",
    "cache_ttl = 3600  # Время жизни кэша в секундах"
   ]
  },
  {
   "cell_type": "code",
   "execution_count": 12,
   "metadata": {
    "executionInfo": {
     "elapsed": 6,
     "status": "ok",
     "timestamp": 1739023821083,
     "user": {
      "displayName": "Денис Селецкий",
      "userId": "14370759247516864274"
     },
     "user_tz": -420
    },
    "id": "u1Py5EYV4D6_"
   },
   "outputs": [],
   "source": [
    "# Функция для удаления выбросов из данных\n",
    "def remove_outliers(df, sigma=3):\n",
    "    \"\"\"Удаление выбросов с использованием стандартного отклонения\"\"\"\n",
    "    mean = df[\"y\"].mean()\n",
    "    std_dev = df[\"y\"].std()\n",
    "    return df[(df[\"y\"] >= mean - sigma * std_dev) & (df[\"y\"] <= mean + sigma * std_dev)]\n",
    "\n",
    "\n",
    "# Асинхронная функция для создания прогноза и управления кэшем\n",
    "async def create_forecast(district, param):\n",
    "    \"\"\"Асинхронное создание прогноза с кэшированием и управлением временем жизни кэша\"\"\"\n",
    "    cache_key = f\"{district}_{param}\"\n",
    "\n",
    "    # Проверка наличия прогноза в кэше и его актуальности\n",
    "    if cache_key in model_cache:\n",
    "        model, forecast, timestamp = model_cache[cache_key]\n",
    "        if asyncio.get_event_loop().time() - timestamp < cache_ttl:\n",
    "            return model, forecast\n",
    "\n",
    "    data = preprocessed_data.get(district, {}).get(param)\n",
    "    if data is None or len(data) < 24:\n",
    "        return None, None\n",
    "\n",
    "    try:\n",
    "        clean_data = remove_outliers(data)\n",
    "\n",
    "        # Создание и обучение модели Prophet\n",
    "        model = Prophet(\n",
    "            changepoint_prior_scale=0.15,\n",
    "            seasonality_prior_scale=15,\n",
    "            yearly_seasonality=True,\n",
    "            weekly_seasonality=False,\n",
    "            daily_seasonality=False,\n",
    "            interval_width=0.80,\n",
    "        )\n",
    "        model.fit(clean_data)\n",
    "\n",
    "        # Построение будущих значений для прогноза\n",
    "        future = model.make_future_dataframe(periods=24, freq=\"ME\")\n",
    "        forecast = model.predict(future)\n",
    "\n",
    "        # Сохранение прогноза в кэш\n",
    "        model_cache[cache_key] = (model, forecast, asyncio.get_event_loop().time())\n",
    "        return model, forecast\n",
    "\n",
    "    except Exception:\n",
    "        return None, None\n"
   ]
  },
  {
   "cell_type": "code",
   "execution_count": 13,
   "metadata": {
    "executionInfo": {
     "elapsed": 6,
     "status": "ok",
     "timestamp": 1739023825183,
     "user": {
      "displayName": "Денис Селецкий",
      "userId": "14370759247516864274"
     },
     "user_tz": -420
    },
    "id": "q8NyN9GG4D7A"
   },
   "outputs": [],
   "source": [
    "# Обработчик команды /start\n",
    "@dp.message(Command(\"start\"))\n",
    "async def cmd_start(message: types.Message):\n",
    "    await message.answer(\"Выберите район:\", reply_markup=keyboard)\n"
   ]
  },
  {
   "cell_type": "code",
   "execution_count": 14,
   "metadata": {
    "executionInfo": {
     "elapsed": 27,
     "status": "ok",
     "timestamp": 1739023827471,
     "user": {
      "displayName": "Денис Селецкий",
      "userId": "14370759247516864274"
     },
     "user_tz": -420
    },
    "id": "Z4isG3T64D7A"
   },
   "outputs": [],
   "source": [
    "# Обработчик выбора района и построения графиков\n",
    "@dp.message(F.text.in_(districts))\n",
    "async def send_combined_plot(message: types.Message):\n",
    "    district = message.text\n",
    "\n",
    "    if district not in preprocessed_data:\n",
    "        return await message.answer(\"Данные по району не найдены\")\n",
    "\n",
    "    parameters = list(preprocessed_data[district].keys())\n",
    "    if not parameters:\n",
    "        return await message.answer(\"Нет данных по параметрам загрязнения\")\n",
    "\n",
    "    num_plots = len(parameters)\n",
    "    fig, axs = plt.subplots(\n",
    "        num_plots, 1, figsize=(12, 5 * num_plots) if num_plots > 1 else (12, 5)\n",
    "    )\n",
    "    plt.subplots_adjust(hspace=0.8)\n",
    "\n",
    "    if num_plots == 1:\n",
    "        axs = [axs]\n",
    "\n",
    "    colors = plt.cm.tab10.colors\n",
    "    caption = f\"Анализ и прогноз для {district}\"\n",
    "\n",
    "    tasks = []\n",
    "    for param in parameters:\n",
    "        tasks.append(create_forecast(district, param))\n",
    "\n",
    "    results = await asyncio.gather(*tasks)\n",
    "\n",
    "    for i, ((model, forecast), param) in enumerate(zip(results, parameters)):\n",
    "        ax = axs[i]\n",
    "        color = colors[i % len(colors)]\n",
    "        data = preprocessed_data[district][param]\n",
    "\n",
    "        # Построение исторических данных\n",
    "        ax.plot(\n",
    "            data[\"ds\"],\n",
    "            data[\"y\"],\n",
    "            color=color,\n",
    "            linewidth=1.5,\n",
    "            label=\"Исторические данные\",\n",
    "        )\n",
    "\n",
    "        if forecast is not None:\n",
    "            forecast_period = forecast[forecast[\"ds\"] > data[\"ds\"].max()]\n",
    "            ax.plot(\n",
    "                forecast_period[\"ds\"],\n",
    "                forecast_period[\"yhat\"],\n",
    "                \"purple\",\n",
    "                linestyle=\"--\",\n",
    "                label=\"Прогноз\",\n",
    "            )\n",
    "\n",
    "        # Построение уровня ПДК\n",
    "        pdk_value = df[(df[\"District\"] == district) & (df[\"Parameter\"] == param)][\n",
    "            \"PDKnorm\"\n",
    "        ].iloc[0]\n",
    "        ax.axhline(pdk_value, color=\"red\", linestyle=\"-.\", label=\"ПДК\")\n",
    "        ax.set_title(f\"{district} - {param}\", fontsize=12, pad=10)\n",
    "        ax.legend(loc=\"upper left\", fontsize=8)\n",
    "        ax.grid(True, alpha=0.3)\n",
    "        ax.xaxis.set_major_formatter(DateFormatter(\"%Y.%m\"))\n",
    "        # Наклон подписей дат на 45 градусов\n",
    "        plt.setp(ax.get_xticklabels(), rotation=45, ha=\"right\")\n",
    "\n",
    "    # Сохранение графика и отправка пользователю\n",
    "    filename = f\"{district}_forecast.png\"\n",
    "    plt.savefig(filename, bbox_inches=\"tight\", dpi=150)\n",
    "    plt.close()\n",
    "\n",
    "    # Асинхронная работа с файлами\n",
    "    async with aiofiles.open(filename, mode=\"rb\") as file:\n",
    "        await message.answer_photo(\n",
    "            types.BufferedInputFile(await file.read(), filename=filename),\n",
    "            caption=caption,\n",
    "        )\n",
    "\n",
    "    os.remove(filename)  # Удаление временного файла\n"
   ]
  },
  {
   "cell_type": "code",
   "execution_count": 15,
   "metadata": {
    "executionInfo": {
     "elapsed": 5,
     "status": "ok",
     "timestamp": 1739023835895,
     "user": {
      "displayName": "Денис Селецкий",
      "userId": "14370759247516864274"
     },
     "user_tz": -420
    },
    "id": "3Tmewzj44D7A"
   },
   "outputs": [],
   "source": [
    "# Главная функция для запуска бота\n",
    "async def main():\n",
    "    await dp.start_polling(bot)\n"
   ]
  },
  {
   "cell_type": "code",
   "execution_count": null,
   "metadata": {
    "colab": {
     "base_uri": "https://localhost:8080/"
    },
    "executionInfo": {
     "elapsed": 55901,
     "status": "ok",
     "timestamp": 1739023911170,
     "user": {
      "displayName": "Денис Селецкий",
      "userId": "14370759247516864274"
     },
     "user_tz": -420
    },
    "id": "TKHnuKFB4D7B",
    "outputId": "2c952154-88d3-450b-b1ef-2281c8e0a764"
   },
   "outputs": [
    {
     "name": "stderr",
     "output_type": "stream",
     "text": [
      "22:13:08 - cmdstanpy - INFO - Chain [1] start processing\n",
      "22:13:08 - cmdstanpy - INFO - Chain [1] done processing\n",
      "22:13:08 - cmdstanpy - INFO - Chain [1] start processing\n",
      "22:13:08 - cmdstanpy - INFO - Chain [1] done processing\n"
     ]
    },
    {
     "ename": "CancelledError",
     "evalue": "",
     "output_type": "error",
     "traceback": [
      "\u001b[1;31m---------------------------------------------------------------------------\u001b[0m",
      "\u001b[1;31mCancelledError\u001b[0m                            Traceback (most recent call last)",
      "Cell \u001b[1;32mIn[16], line 3\u001b[0m\n\u001b[0;32m      1\u001b[0m \u001b[38;5;66;03m# Точка входа в приложение\u001b[39;00m\n\u001b[0;32m      2\u001b[0m \u001b[38;5;28;01mif\u001b[39;00m \u001b[38;5;18m__name__\u001b[39m \u001b[38;5;241m==\u001b[39m \u001b[38;5;124m\"\u001b[39m\u001b[38;5;124m__main__\u001b[39m\u001b[38;5;124m\"\u001b[39m:\n\u001b[1;32m----> 3\u001b[0m     \u001b[38;5;28;01mawait\u001b[39;00m main()\n",
      "Cell \u001b[1;32mIn[15], line 3\u001b[0m, in \u001b[0;36mmain\u001b[1;34m()\u001b[0m\n\u001b[0;32m      2\u001b[0m \u001b[38;5;28;01masync\u001b[39;00m \u001b[38;5;28;01mdef\u001b[39;00m \u001b[38;5;21mmain\u001b[39m():\n\u001b[1;32m----> 3\u001b[0m     \u001b[38;5;28;01mawait\u001b[39;00m dp\u001b[38;5;241m.\u001b[39mstart_polling(bot)\n",
      "File \u001b[1;32mc:\\Users\\Iluxa\\AppData\\Local\\Programs\\Python\\Python313\\Lib\\site-packages\\aiogram\\dispatcher\\dispatcher.py:543\u001b[0m, in \u001b[0;36mDispatcher.start_polling\u001b[1;34m(self, polling_timeout, handle_as_tasks, backoff_config, allowed_updates, handle_signals, close_bot_session, *bots, **kwargs)\u001b[0m\n\u001b[0;32m    529\u001b[0m tasks: List[asyncio\u001b[38;5;241m.\u001b[39mTask[Any]] \u001b[38;5;241m=\u001b[39m [\n\u001b[0;32m    530\u001b[0m     asyncio\u001b[38;5;241m.\u001b[39mcreate_task(\n\u001b[0;32m    531\u001b[0m         \u001b[38;5;28mself\u001b[39m\u001b[38;5;241m.\u001b[39m_polling(\n\u001b[1;32m   (...)\u001b[0m\n\u001b[0;32m    540\u001b[0m     \u001b[38;5;28;01mfor\u001b[39;00m bot \u001b[38;5;129;01min\u001b[39;00m bots\n\u001b[0;32m    541\u001b[0m ]\n\u001b[0;32m    542\u001b[0m tasks\u001b[38;5;241m.\u001b[39mappend(asyncio\u001b[38;5;241m.\u001b[39mcreate_task(\u001b[38;5;28mself\u001b[39m\u001b[38;5;241m.\u001b[39m_stop_signal\u001b[38;5;241m.\u001b[39mwait()))\n\u001b[1;32m--> 543\u001b[0m done, pending \u001b[38;5;241m=\u001b[39m \u001b[38;5;28;01mawait\u001b[39;00m asyncio\u001b[38;5;241m.\u001b[39mwait(tasks, return_when\u001b[38;5;241m=\u001b[39masyncio\u001b[38;5;241m.\u001b[39mFIRST_COMPLETED)\n\u001b[0;32m    545\u001b[0m \u001b[38;5;28;01mfor\u001b[39;00m task \u001b[38;5;129;01min\u001b[39;00m pending:\n\u001b[0;32m    546\u001b[0m     \u001b[38;5;66;03m# (mostly) Graceful shutdown unfinished tasks\u001b[39;00m\n\u001b[0;32m    547\u001b[0m     task\u001b[38;5;241m.\u001b[39mcancel()\n",
      "File \u001b[1;32mc:\\Users\\Iluxa\\AppData\\Local\\Programs\\Python\\Python313\\Lib\\asyncio\\tasks.py:451\u001b[0m, in \u001b[0;36mwait\u001b[1;34m(fs, timeout, return_when)\u001b[0m\n\u001b[0;32m    448\u001b[0m     \u001b[38;5;28;01mraise\u001b[39;00m \u001b[38;5;167;01mTypeError\u001b[39;00m(\u001b[38;5;124m\"\u001b[39m\u001b[38;5;124mPassing coroutines is forbidden, use tasks explicitly.\u001b[39m\u001b[38;5;124m\"\u001b[39m)\n\u001b[0;32m    450\u001b[0m loop \u001b[38;5;241m=\u001b[39m events\u001b[38;5;241m.\u001b[39mget_running_loop()\n\u001b[1;32m--> 451\u001b[0m \u001b[38;5;28;01mreturn\u001b[39;00m \u001b[38;5;28;01mawait\u001b[39;00m _wait(fs, timeout, return_when, loop)\n",
      "File \u001b[1;32mc:\\Users\\Iluxa\\AppData\\Local\\Programs\\Python\\Python313\\Lib\\asyncio\\tasks.py:537\u001b[0m, in \u001b[0;36m_wait\u001b[1;34m(fs, timeout, return_when, loop)\u001b[0m\n\u001b[0;32m    534\u001b[0m     f\u001b[38;5;241m.\u001b[39madd_done_callback(_on_completion)\n\u001b[0;32m    536\u001b[0m \u001b[38;5;28;01mtry\u001b[39;00m:\n\u001b[1;32m--> 537\u001b[0m     \u001b[38;5;28;01mawait\u001b[39;00m waiter\n\u001b[0;32m    538\u001b[0m \u001b[38;5;28;01mfinally\u001b[39;00m:\n\u001b[0;32m    539\u001b[0m     \u001b[38;5;28;01mif\u001b[39;00m timeout_handle \u001b[38;5;129;01mis\u001b[39;00m \u001b[38;5;129;01mnot\u001b[39;00m \u001b[38;5;28;01mNone\u001b[39;00m:\n",
      "\u001b[1;31mCancelledError\u001b[0m: "
     ]
    },
    {
     "name": "stderr",
     "output_type": "stream",
     "text": [
      "Failed to fetch updates - TelegramNetworkError: HTTP Client says - ClientOSError: [Errno 1] [SSL: APPLICATION_DATA_AFTER_CLOSE_NOTIFY] application data after close notify (_ssl.c:2775)\n",
      "Sleep for 1.000000 seconds and try again... (tryings = 0, bot id = 5990190271)\n"
     ]
    }
   ],
   "source": [
    "# Точка входа в приложение\n",
    "if __name__ == \"__main__\":\n",
    "    await main()\n"
   ]
  }
 ],
 "metadata": {
  "colab": {
   "provenance": []
  },
  "kernelspec": {
   "display_name": "Python 3",
   "language": "python",
   "name": "python3"
  },
  "language_info": {
   "codemirror_mode": {
    "name": "ipython",
    "version": 3
   },
   "file_extension": ".py",
   "mimetype": "text/x-python",
   "name": "python",
   "nbconvert_exporter": "python",
   "pygments_lexer": "ipython3",
   "version": "3.13.2"
  }
 },
 "nbformat": 4,
 "nbformat_minor": 4
}
