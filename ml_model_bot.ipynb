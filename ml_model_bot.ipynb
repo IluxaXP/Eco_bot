{
 "cells": [
  {
   "cell_type": "code",
   "execution_count": null,
   "metadata": {
    "colab": {
     "base_uri": "https://localhost:8080/"
    },
    "executionInfo": {
     "elapsed": 4542,
     "status": "ok",
     "timestamp": 1739023779571,
     "user": {
      "displayName": "Денис Селецкий",
      "userId": "14370759247516864274"
     },
     "user_tz": -420
    },
    "id": "B-uBh0HT4dIM",
    "outputId": "ec131d15-3d00-46fe-8669-7970f3b0a22d"
   },
   "outputs": [],
   "source": [
    "#!pip install aiofiles\n",
    "#!pip install prophet"
   ]
  },
  {
   "cell_type": "code",
   "execution_count": 7,
   "metadata": {
    "executionInfo": {
     "elapsed": 4742,
     "status": "ok",
     "timestamp": 1739023805107,
     "user": {
      "displayName": "Денис Селецкий",
      "userId": "14370759247516864274"
     },
     "user_tz": -420
    },
    "id": "qziOSRxW4D68"
   },
   "outputs": [],
   "source": [
    "import os\n",
    "import pandas as pd\n",
    "import matplotlib.pyplot as plt\n",
    "from aiogram import Bot, Dispatcher, types, F\n",
    "from aiogram.filters import Command\n",
    "from aiogram.types import ReplyKeyboardMarkup, KeyboardButton\n",
    "from matplotlib.dates import DateFormatter\n",
    "import asyncio\n",
    "from matplotlib import rcParams\n",
    "from prophet import Prophet\n",
    "from data.TOKEN import API_TOKEN\n",
    "import aiofiles\n",
    "\n",
    "# Настройка шрифта для графиков\n",
    "rcParams[\"font.family\"] = \"DejaVu Sans\"\n",
    "plt.style.use(\"seaborn-v0_8\")\n",
    "\n",
    "# Создание бота и диспетчера событий\n",
    "bot = Bot(token=API_TOKEN)\n",
    "dp = Dispatcher()\n"
   ]
  },
  {
   "cell_type": "code",
   "execution_count": 16,
   "metadata": {
    "executionInfo": {
     "elapsed": 224,
     "status": "ok",
     "timestamp": 1739023816008,
     "user": {
      "displayName": "Денис Селецкий",
      "userId": "14370759247516864274"
     },
     "user_tz": -420
    },
    "id": "P-IL3we34D6_"
   },
   "outputs": [],
   "source": [
    "# Кэш моделей для прогнозов\n",
    "model_cache = {}\n",
    "cache_ttl = 3600  # Время жизни кэша в секундах\n",
    "\n",
    "# Чтение данных из CSV-файла\n",
    "csv_file = \"new_data.csv\"\n",
    "df = pd.read_csv(csv_file)\n",
    "df[\"Period\"] = pd.to_datetime(df[\"Period\"], errors=\"coerce\")  # Преобразование даты\n",
    "\n",
    "# Удаление строк с отсутствующими критическими значениями\n",
    "df = df.dropna(subset=[\"District\", \"Period\", \"MonthlyAverage\", \"PDKnorm\", \"Parameter\"])\n",
    "\n",
    "# Предобработка данных для прогнозов\n",
    "preprocessed_data = {\n",
    "    district: {\n",
    "        param: group[[\"Period\", \"MonthlyAverage\"]]\n",
    "        .rename(columns={\"Period\": \"ds\", \"MonthlyAverage\": \"y\"})\n",
    "        .sort_values(\"ds\")\n",
    "        for param, group in df[df[\"District\"] == district].groupby(\"Parameter\")\n",
    "    }\n",
    "    for district in df[\"District\"].unique()\n",
    "}\n",
    "\n",
    "# Получение уникальных районов для клавиатуры\n",
    "districts = df[\"District\"].unique().tolist()\n",
    "keyboard = ReplyKeyboardMarkup(\n",
    "    keyboard=[[KeyboardButton(text=d)] for d in districts], resize_keyboard=True\n",
    ")\n"
   ]
  },
  {
   "cell_type": "code",
   "execution_count": 17,
   "metadata": {
    "executionInfo": {
     "elapsed": 6,
     "status": "ok",
     "timestamp": 1739023821083,
     "user": {
      "displayName": "Денис Селецкий",
      "userId": "14370759247516864274"
     },
     "user_tz": -420
    },
    "id": "u1Py5EYV4D6_"
   },
   "outputs": [],
   "source": [
    "# Функция для удаления выбросов из данных\n",
    "def remove_outliers(df, sigma=3):\n",
    "    \"\"\"Удаление выбросов с использованием стандартного отклонения\"\"\"\n",
    "    mean = df[\"y\"].mean()\n",
    "    std_dev = df[\"y\"].std()\n",
    "    return df[(df[\"y\"] >= mean - sigma * std_dev) & (df[\"y\"] <= mean + sigma * std_dev)]\n",
    "\n",
    "\n",
    "# Асинхронная функция для создания прогноза и управления кэшем\n",
    "async def create_forecast(district, param):\n",
    "    \"\"\"Асинхронное создание прогноза с кэшированием и управлением временем жизни кэша\"\"\"\n",
    "    cache_key = f\"{district}_{param}\"\n",
    "\n",
    "    # Проверка наличия прогноза в кэше и его актуальности\n",
    "    if cache_key in model_cache:\n",
    "        model, forecast, timestamp = model_cache[cache_key]\n",
    "        if asyncio.get_event_loop().time() - timestamp < cache_ttl:\n",
    "            return model, forecast\n",
    "\n",
    "    data = preprocessed_data.get(district, {}).get(param)\n",
    "    if data is None or len(data) < 24:\n",
    "        return None, None\n",
    "\n",
    "    try:\n",
    "        clean_data = remove_outliers(data)\n",
    "\n",
    "        # Создание и обучение модели Prophet\n",
    "        model = Prophet(\n",
    "            changepoint_prior_scale=0.15,\n",
    "            seasonality_prior_scale=15,\n",
    "            yearly_seasonality=True,\n",
    "            weekly_seasonality=False,\n",
    "            daily_seasonality=False,\n",
    "            interval_width=0.80,\n",
    "        )\n",
    "        model.fit(clean_data)\n",
    "\n",
    "        # Построение будущих значений для прогноза\n",
    "        future = model.make_future_dataframe(periods=24, freq=\"ME\")\n",
    "        forecast = model.predict(future)\n",
    "\n",
    "        # Сохранение прогноза в кэш\n",
    "        model_cache[cache_key] = (model, forecast, asyncio.get_event_loop().time())\n",
    "        return model, forecast\n",
    "\n",
    "    except Exception:\n",
    "        return None, None\n"
   ]
  },
  {
   "cell_type": "code",
   "execution_count": 18,
   "metadata": {
    "executionInfo": {
     "elapsed": 6,
     "status": "ok",
     "timestamp": 1739023825183,
     "user": {
      "displayName": "Денис Селецкий",
      "userId": "14370759247516864274"
     },
     "user_tz": -420
    },
    "id": "q8NyN9GG4D7A"
   },
   "outputs": [],
   "source": [
    "# Обработчик команды /start\n",
    "dp.message(Command(\"start\"))\n",
    "async def cmd_start(message: types.Message):\n",
    "    await message.answer(\"Выберите район:\", reply_markup=keyboard)\n"
   ]
  },
  {
   "cell_type": "code",
   "execution_count": 19,
   "metadata": {
    "executionInfo": {
     "elapsed": 27,
     "status": "ok",
     "timestamp": 1739023827471,
     "user": {
      "displayName": "Денис Селецкий",
      "userId": "14370759247516864274"
     },
     "user_tz": -420
    },
    "id": "Z4isG3T64D7A"
   },
   "outputs": [],
   "source": [
    "# Обработчик выбора района и построения графиков\n",
    "@dp.message(F.text.in_(districts))\n",
    "async def send_combined_plot(message: types.Message):\n",
    "    district = message.text\n",
    "\n",
    "    if district not in preprocessed_data:\n",
    "        return await message.answer(\"Данные по району не найдены\")\n",
    "\n",
    "    parameters = list(preprocessed_data[district].keys())\n",
    "    if not parameters:\n",
    "        return await message.answer(\"Нет данных по параметрам загрязнения\")\n",
    "\n",
    "    num_plots = len(parameters)\n",
    "    fig, axs = plt.subplots(\n",
    "        num_plots, 1, figsize=(12, 5 * num_plots) if num_plots > 1 else (12, 5)\n",
    "    )\n",
    "    plt.subplots_adjust(hspace=0.8)\n",
    "\n",
    "    if num_plots == 1:\n",
    "        axs = [axs]\n",
    "\n",
    "    colors = plt.cm.tab10.colors\n",
    "    caption = f\"Анализ и прогноз для {district}\"\n",
    "\n",
    "    tasks = []\n",
    "    for param in parameters:\n",
    "        tasks.append(create_forecast(district, param))\n",
    "\n",
    "    results = await asyncio.gather(*tasks)\n",
    "\n",
    "    for i, ((model, forecast), param) in enumerate(zip(results, parameters)):\n",
    "        ax = axs[i]\n",
    "        color = colors[i % len(colors)]\n",
    "        data = preprocessed_data[district][param]\n",
    "\n",
    "        # Построение исторических данных\n",
    "        ax.plot(\n",
    "            data[\"ds\"],\n",
    "            data[\"y\"],\n",
    "            color=color,\n",
    "            linewidth=1.5,\n",
    "            label=\"Исторические данные\",\n",
    "        )\n",
    "\n",
    "        if forecast is not None:\n",
    "            forecast_period = forecast[forecast[\"ds\"] > data[\"ds\"].max()]\n",
    "            ax.plot(\n",
    "                forecast_period[\"ds\"],\n",
    "                forecast_period[\"yhat\"],\n",
    "                \"purple\",\n",
    "                linestyle=\"--\",\n",
    "                label=\"Прогноз\",\n",
    "            )\n",
    "\n",
    "        # Построение уровня ПДК\n",
    "        pdk_value = df[(df[\"District\"] == district) & (df[\"Parameter\"] == param)][\n",
    "            \"PDKnorm\"\n",
    "        ].iloc[0]\n",
    "        ax.axhline(pdk_value, color=\"red\", linestyle=\"-.\", label=\"ПДК\")\n",
    "        ax.set_title(f\"{district} - {param}\", fontsize=12, pad=10)\n",
    "        ax.legend(loc=\"upper left\", fontsize=8)\n",
    "        ax.grid(True, alpha=0.3)\n",
    "        ax.xaxis.set_major_formatter(DateFormatter(\"%Y-%m\"))\n",
    "\n",
    "    # Сохранение графика и отправка пользователю\n",
    "    filename = f\"{district}_forecast.png\"\n",
    "    plt.savefig(filename, bbox_inches=\"tight\", dpi=150)\n",
    "    plt.close()\n",
    "\n",
    "    # Асинхронная работа с файлами\n",
    "    async with aiofiles.open(filename, mode=\"rb\") as file:\n",
    "        await message.answer_photo(\n",
    "            types.BufferedInputFile(await file.read(), filename=filename),\n",
    "            caption=caption,\n",
    "        )\n",
    "\n",
    "    os.remove(filename)  # Удаление временного файла\n"
   ]
  },
  {
   "cell_type": "code",
   "execution_count": 20,
   "metadata": {
    "executionInfo": {
     "elapsed": 5,
     "status": "ok",
     "timestamp": 1739023835895,
     "user": {
      "displayName": "Денис Селецкий",
      "userId": "14370759247516864274"
     },
     "user_tz": -420
    },
    "id": "3Tmewzj44D7A"
   },
   "outputs": [],
   "source": [
    "# Главная функция для запуска бота\n",
    "async def main():\n",
    "    await dp.start_polling(bot)\n"
   ]
  },
  {
   "cell_type": "code",
   "execution_count": null,
   "metadata": {
    "colab": {
     "base_uri": "https://localhost:8080/"
    },
    "executionInfo": {
     "elapsed": 55901,
     "status": "ok",
     "timestamp": 1739023911170,
     "user": {
      "displayName": "Денис Селецкий",
      "userId": "14370759247516864274"
     },
     "user_tz": -420
    },
    "id": "TKHnuKFB4D7B",
    "outputId": "2c952154-88d3-450b-b1ef-2281c8e0a764"
   },
   "outputs": [
    {
     "name": "stderr",
     "output_type": "stream",
     "text": [
      "18:13:39 - cmdstanpy - INFO - Chain [1] start processing\n",
      "18:13:39 - cmdstanpy - INFO - Chain [1] done processing\n",
      "18:13:39 - cmdstanpy - INFO - Chain [1] start processing\n",
      "18:13:39 - cmdstanpy - INFO - Chain [1] done processing\n",
      "18:13:39 - cmdstanpy - INFO - Chain [1] start processing\n",
      "18:13:40 - cmdstanpy - INFO - Chain [1] done processing\n",
      "18:13:40 - cmdstanpy - INFO - Chain [1] start processing\n",
      "18:13:40 - cmdstanpy - INFO - Chain [1] done processing\n"
     ]
    }
   ],
   "source": [
    "# Точка входа в приложение\n",
    "if __name__ == \"__main__\":\n",
    "    await main()\n"
   ]
  },
  {
   "cell_type": "code",
   "execution_count": null,
   "metadata": {},
   "outputs": [],
   "source": []
  }
 ],
 "metadata": {
  "colab": {
   "provenance": []
  },
  "kernelspec": {
   "display_name": "Python 3 (ipykernel)",
   "language": "python",
   "name": "python3"
  },
  "language_info": {
   "codemirror_mode": {
    "name": "ipython",
    "version": 3
   },
   "file_extension": ".py",
   "mimetype": "text/x-python",
   "name": "python",
   "nbconvert_exporter": "python",
   "pygments_lexer": "ipython3",
   "version": "3.13.2"
  }
 },
 "nbformat": 4,
 "nbformat_minor": 4
}
