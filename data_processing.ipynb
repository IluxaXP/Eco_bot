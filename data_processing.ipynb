{
 "cells": [
  {
   "cell_type": "code",
   "execution_count": 1,
   "metadata": {
    "executionInfo": {
     "elapsed": 2355,
     "status": "ok",
     "timestamp": 1738321145814,
     "user": {
      "displayName": "Денис Селецкий",
      "userId": "14370759247516864274"
     },
     "user_tz": -420
    },
    "id": "hFsqAhJYAJVt"
   },
   "outputs": [],
   "source": [
    "import pandas as pd\n",
    "import numpy as np\n",
    "\n",
    "data = pd.read_csv(\"data/data.csv\", sep=\";\")\n",
    "\n",
    "cp_data = data.copy()"
   ]
  },
  {
   "cell_type": "code",
   "execution_count": 2,
   "metadata": {
    "executionInfo": {
     "elapsed": 239,
     "status": "ok",
     "timestamp": 1738321148113,
     "user": {
      "displayName": "Денис Селецкий",
      "userId": "14370759247516864274"
     },
     "user_tz": -420
    },
    "id": "QyJrFciPAJVv"
   },
   "outputs": [],
   "source": [
    "cp_data = cp_data.drop(0, axis=0)\n"
   ]
  },
  {
   "cell_type": "code",
   "execution_count": 3,
   "metadata": {
    "executionInfo": {
     "elapsed": 255,
     "status": "ok",
     "timestamp": 1738321149512,
     "user": {
      "displayName": "Денис Селецкий",
      "userId": "14370759247516864274"
     },
     "user_tz": -420
    },
    "id": "c-4ATuM6AJVv"
   },
   "outputs": [],
   "source": [
    "cp_data = cp_data.drop(['ID', 'global_id', 'StationName', 'AdmArea', 'SurveillanceZoneCharacteristics', 'Location', 'Unnamed: 11', 'MonthlyAveragePDKss'], axis=1)"
   ]
  },
  {
   "cell_type": "code",
   "execution_count": 4,
   "metadata": {
    "colab": {
     "base_uri": "https://localhost:8080/",
     "height": 805
    },
    "executionInfo": {
     "elapsed": 249,
     "status": "ok",
     "timestamp": 1738321150839,
     "user": {
      "displayName": "Денис Селецкий",
      "userId": "14370759247516864274"
     },
     "user_tz": -420
    },
    "id": "xghPiw9eAJVw",
    "outputId": "2412a6dd-bdb4-4de1-c2f4-cb079b109458"
   },
   "outputs": [
    {
     "data": {
      "text/plain": [
       "Parameter\n",
       "Оксид углерода                                       4360\n",
       "Диоксид азота                                        4100\n",
       "Оксид азота                                          3808\n",
       "Сумма углеводородных соединений за вычетом метана    2657\n",
       "Метан                                                2656\n",
       "Сумма углеводородных соединений                      2653\n",
       "Сероводород                                          2215\n",
       "Диоксид серы                                         1844\n",
       "Взвешенные частицы РМ2.5                             1564\n",
       "Взвешенные частицы РМ10                              1553\n",
       "Озон                                                 1276\n",
       "Взвешенные частицы РМ10 (суточные измерения)          498\n",
       "Диоксид углерода                                      435\n",
       "C6H6 (бензол)                                         391\n",
       "Взвешенные частицы РМ2.5 (суточные измерения)         382\n",
       "CH2O (формальдегид)                                   378\n",
       "C6H5OH (фенол)                                        363\n",
       "Кислород                                              280\n",
       "C10H8 (нафталин)                                      273\n",
       "C7H8 (толуол)                                         270\n",
       "Аммиак                                                267\n",
       "C8H8 (стирол)                                         258\n",
       "Name: count, dtype: int64"
      ]
     },
     "execution_count": 4,
     "metadata": {},
     "output_type": "execute_result"
    }
   ],
   "source": [
    "cp_data['Parameter'].value_counts()"
   ]
  },
  {
   "cell_type": "code",
   "execution_count": 5,
   "metadata": {
    "executionInfo": {
     "elapsed": 214,
     "status": "ok",
     "timestamp": 1738321153408,
     "user": {
      "displayName": "Денис Селецкий",
      "userId": "14370759247516864274"
     },
     "user_tz": -420
    },
    "id": "ok9cuk2HAJVw"
   },
   "outputs": [],
   "source": [
    "cp_data = cp_data[cp_data['Parameter'].isin(['Диоксид азота', 'Озон', 'Взвешенные частицы РМ10', 'Диоксид серы'])]\n",
    "\n",
    "cp_data = cp_data.reset_index()\n",
    "\n",
    "del cp_data['index']\n"
   ]
  },
  {
   "cell_type": "code",
   "execution_count": 6,
   "metadata": {
    "executionInfo": {
     "elapsed": 212,
     "status": "ok",
     "timestamp": 1738321155087,
     "user": {
      "displayName": "Денис Селецкий",
      "userId": "14370759247516864274"
     },
     "user_tz": -420
    },
    "id": "eVoXQNkPAJVw"
   },
   "outputs": [],
   "source": [
    "cp_data['PDKnorm'] = np.nan"
   ]
  },
  {
   "cell_type": "code",
   "execution_count": 7,
   "metadata": {
    "executionInfo": {
     "elapsed": 239,
     "status": "ok",
     "timestamp": 1738321156389,
     "user": {
      "displayName": "Денис Селецкий",
      "userId": "14370759247516864274"
     },
     "user_tz": -420
    },
    "id": "umpIIJxbAJVx"
   },
   "outputs": [],
   "source": [
    "cp_data['PDKnorm'] = cp_data['PDKnorm'].mask(cp_data['Parameter'] == 'Диоксид азота', 0.04)\n",
    "cp_data['PDKnorm'] = cp_data['PDKnorm'].mask(cp_data['Parameter'] == 'Озон', 0.03)\n",
    "cp_data['PDKnorm'] = cp_data['PDKnorm'].mask(cp_data['Parameter'] == 'Взвешенные частицы РМ10', 0.04)\n",
    "cp_data['PDKnorm'] = cp_data['PDKnorm'].mask(cp_data['Parameter'] == 'Диоксид серы', 0.05)"
   ]
  },
  {
   "cell_type": "code",
   "execution_count": 8,
   "metadata": {
    "executionInfo": {
     "elapsed": 214,
     "status": "ok",
     "timestamp": 1738321159657,
     "user": {
      "displayName": "Денис Селецкий",
      "userId": "14370759247516864274"
     },
     "user_tz": -420
    },
    "id": "ljNd3_TlAJVx"
   },
   "outputs": [],
   "source": [
    "cp_data['MonthlyAverage'] = cp_data['MonthlyAverage'].astype('Float64')"
   ]
  },
  {
   "cell_type": "code",
   "execution_count": 9,
   "metadata": {},
   "outputs": [],
   "source": [
    "cp_data['Period'] = pd.to_datetime(cp_data['Period'], format='%m.%Y', errors='coerce')"
   ]
  },
  {
   "cell_type": "code",
   "execution_count": 10,
   "metadata": {
    "executionInfo": {
     "elapsed": 227,
     "status": "ok",
     "timestamp": 1738321157678,
     "user": {
      "displayName": "Денис Селецкий",
      "userId": "14370759247516864274"
     },
     "user_tz": -420
    },
    "id": "0ymfeFS8AJVx"
   },
   "outputs": [],
   "source": [
    "cp_data.to_csv('new_data.csv')"
   ]
  },
  {
   "cell_type": "code",
   "execution_count": 11,
   "metadata": {
    "colab": {
     "base_uri": "https://localhost:8080/",
     "height": 424
    },
    "executionInfo": {
     "elapsed": 224,
     "status": "ok",
     "timestamp": 1738321217227,
     "user": {
      "displayName": "Денис Селецкий",
      "userId": "14370759247516864274"
     },
     "user_tz": -420
    },
    "id": "XzssM7jmAJVx",
    "outputId": "674bb8f3-492c-4d26-ccc6-b95c7753d942"
   },
   "outputs": [
    {
     "name": "stdout",
     "output_type": "stream",
     "text": [
      "<class 'pandas.core.frame.DataFrame'>\n",
      "RangeIndex: 8773 entries, 0 to 8772\n",
      "Data columns (total 5 columns):\n",
      " #   Column          Non-Null Count  Dtype         \n",
      "---  ------          --------------  -----         \n",
      " 0   Period          8773 non-null   datetime64[ns]\n",
      " 1   District        8773 non-null   object        \n",
      " 2   Parameter       8773 non-null   object        \n",
      " 3   MonthlyAverage  8773 non-null   Float64       \n",
      " 4   PDKnorm         8773 non-null   float64       \n",
      "dtypes: Float64(1), datetime64[ns](1), float64(1), object(2)\n",
      "memory usage: 351.4+ KB\n"
     ]
    }
   ],
   "source": [
    "cp_data.info()\n"
   ]
  },
  {
   "cell_type": "code",
   "execution_count": null,
   "metadata": {},
   "outputs": [],
   "source": []
  },
  {
   "cell_type": "code",
   "execution_count": null,
   "metadata": {},
   "outputs": [],
   "source": []
  }
 ],
 "metadata": {
  "colab": {
   "provenance": []
  },
  "kernelspec": {
   "display_name": "Python 3 (ipykernel)",
   "language": "python",
   "name": "python3"
  },
  "language_info": {
   "codemirror_mode": {
    "name": "ipython",
    "version": 3
   },
   "file_extension": ".py",
   "mimetype": "text/x-python",
   "name": "python",
   "nbconvert_exporter": "python",
   "pygments_lexer": "ipython3",
   "version": "3.12.7"
  }
 },
 "nbformat": 4,
 "nbformat_minor": 4
}
